{
 "cells": [
  {
   "cell_type": "code",
   "execution_count": 21,
   "metadata": {},
   "outputs": [],
   "source": [
    "import pandas as pd\n",
    "import numpy as np\n",
    "from collections import defaultdict\n",
    "from surprise import SVD\n",
    "from surprise import Dataset\n",
    "from surprise.model_selection import train_test_split\n",
    "from surprise import accuracy\n",
    "from surprise.model_selection import GridSearchCV\n",
    "from surprise import Reader\n",
    "from surprise.model_selection import KFold\n",
    "import random\n",
    "import math"
   ]
  },
  {
   "cell_type": "code",
   "execution_count": 38,
   "metadata": {},
   "outputs": [],
   "source": [
    "# c.26m user-movie ratings\n",
    "ratings_df = pd.read_csv(\"ratings.csv\")"
   ]
  },
  {
   "cell_type": "code",
   "execution_count": 39,
   "metadata": {},
   "outputs": [],
   "source": [
    "# shuffle dataframe and then split out some data for unbiased testing\n",
    "ratings_df.drop(['timestamp'], axis = 1, inplace = True)\n",
    "ratings_df = ratings_df.sample(frac=1).reset_index(drop=True)\n",
    "test_train_split = math.floor(len(ratings_df)*.8)\n",
    "train = ratings_df[:test_train_split]\n",
    "test = ratings_df[test_train_split:]"
   ]
  },
  {
   "cell_type": "code",
   "execution_count": 42,
   "metadata": {},
   "outputs": [],
   "source": [
    "# using surprise package: initialise reader with 1 - 5 scale, put trainset into Suprise 'wrapper'\n",
    "reader = Reader(rating_scale=(1, 5))\n",
    "data = Dataset.load_from_df(train, reader)\n",
    "algo = SVD()"
   ]
  },
  {
   "cell_type": "code",
   "execution_count": 43,
   "metadata": {},
   "outputs": [],
   "source": [
    "# get a baseline RSME score with default parameters\n",
    "trainset, testset = train_test_split(data, test_size=.25)\n",
    "algo.fit(trainset)\n",
    "predictions = algo.test(testset)"
   ]
  },
  {
   "cell_type": "code",
   "execution_count": 51,
   "metadata": {},
   "outputs": [
    {
     "name": "stdout",
     "output_type": "stream",
     "text": [
      "RMSE: 0.8123\n"
     ]
    },
    {
     "data": {
      "text/plain": [
       "0.8123478193214823"
      ]
     },
     "execution_count": 51,
     "metadata": {},
     "output_type": "execute_result"
    }
   ],
   "source": [
    "accuracy.rmse(predictions, verbose = True)"
   ]
  },
  {
   "cell_type": "code",
   "execution_count": 52,
   "metadata": {},
   "outputs": [
    {
     "name": "stderr",
     "output_type": "stream",
     "text": [
      "C:\\Users\\josep\\anaconda3\\lib\\site-packages\\joblib\\externals\\loky\\process_executor.py:688: UserWarning: A worker stopped while some jobs were given to the executor. This can be caused by a too short worker timeout or by a memory leak.\n",
      "  warnings.warn(\n"
     ]
    },
    {
     "name": "stdout",
     "output_type": "stream",
     "text": [
      "0.8178917027638771\n",
      "{'n_factors': 50}\n"
     ]
    }
   ],
   "source": [
    "# Attempt to tune parameters to improve RMSE \n",
    "# it's computationally expensive so limited ability to finely tune, but\n",
    "# number of factors is the obvious improvement opporunity\n",
    "param_grid = {'n_factors': [10,25,50,150]}\n",
    "gs = GridSearchCV(SVD, param_grid, measures=['rmse'], n_jobs = -1, cv=3, refit = True)\n",
    "gs.fit(data)\n",
    "print(gs.best_score['rmse'])\n",
    "print(gs.best_params['rmse'])\n",
    "gscv_results_df = pd.DataFrame.from_dict(gs.cv_results)"
   ]
  },
  {
   "cell_type": "code",
   "execution_count": 54,
   "metadata": {},
   "outputs": [
    {
     "data": {
      "text/html": [
       "<div>\n",
       "<style scoped>\n",
       "    .dataframe tbody tr th:only-of-type {\n",
       "        vertical-align: middle;\n",
       "    }\n",
       "\n",
       "    .dataframe tbody tr th {\n",
       "        vertical-align: top;\n",
       "    }\n",
       "\n",
       "    .dataframe thead th {\n",
       "        text-align: right;\n",
       "    }\n",
       "</style>\n",
       "<table border=\"1\" class=\"dataframe\">\n",
       "  <thead>\n",
       "    <tr style=\"text-align: right;\">\n",
       "      <th></th>\n",
       "      <th>split0_test_rmse</th>\n",
       "      <th>split1_test_rmse</th>\n",
       "      <th>split2_test_rmse</th>\n",
       "      <th>mean_test_rmse</th>\n",
       "      <th>std_test_rmse</th>\n",
       "      <th>rank_test_rmse</th>\n",
       "      <th>mean_fit_time</th>\n",
       "      <th>std_fit_time</th>\n",
       "      <th>mean_test_time</th>\n",
       "      <th>std_test_time</th>\n",
       "      <th>params</th>\n",
       "      <th>param_n_factors</th>\n",
       "    </tr>\n",
       "  </thead>\n",
       "  <tbody>\n",
       "    <tr>\n",
       "      <th>0</th>\n",
       "      <td>0.822747</td>\n",
       "      <td>0.824188</td>\n",
       "      <td>0.823705</td>\n",
       "      <td>0.823546</td>\n",
       "      <td>0.000599</td>\n",
       "      <td>4</td>\n",
       "      <td>536.813839</td>\n",
       "      <td>66.149059</td>\n",
       "      <td>343.545335</td>\n",
       "      <td>74.102112</td>\n",
       "      <td>{'n_factors': 10}</td>\n",
       "      <td>10</td>\n",
       "    </tr>\n",
       "    <tr>\n",
       "      <th>1</th>\n",
       "      <td>0.818293</td>\n",
       "      <td>0.819465</td>\n",
       "      <td>0.818463</td>\n",
       "      <td>0.818740</td>\n",
       "      <td>0.000517</td>\n",
       "      <td>2</td>\n",
       "      <td>839.940263</td>\n",
       "      <td>181.062887</td>\n",
       "      <td>891.278536</td>\n",
       "      <td>416.586979</td>\n",
       "      <td>{'n_factors': 25}</td>\n",
       "      <td>25</td>\n",
       "    </tr>\n",
       "    <tr>\n",
       "      <th>2</th>\n",
       "      <td>0.817391</td>\n",
       "      <td>0.818302</td>\n",
       "      <td>0.817982</td>\n",
       "      <td>0.817892</td>\n",
       "      <td>0.000378</td>\n",
       "      <td>1</td>\n",
       "      <td>1052.247490</td>\n",
       "      <td>124.973571</td>\n",
       "      <td>922.822843</td>\n",
       "      <td>531.629237</td>\n",
       "      <td>{'n_factors': 50}</td>\n",
       "      <td>50</td>\n",
       "    </tr>\n",
       "    <tr>\n",
       "      <th>3</th>\n",
       "      <td>0.819878</td>\n",
       "      <td>0.820911</td>\n",
       "      <td>0.820060</td>\n",
       "      <td>0.820283</td>\n",
       "      <td>0.000450</td>\n",
       "      <td>3</td>\n",
       "      <td>2269.480941</td>\n",
       "      <td>560.156583</td>\n",
       "      <td>115.386146</td>\n",
       "      <td>30.535429</td>\n",
       "      <td>{'n_factors': 150}</td>\n",
       "      <td>150</td>\n",
       "    </tr>\n",
       "  </tbody>\n",
       "</table>\n",
       "</div>"
      ],
      "text/plain": [
       "   split0_test_rmse  split1_test_rmse  split2_test_rmse  mean_test_rmse  \\\n",
       "0          0.822747          0.824188          0.823705        0.823546   \n",
       "1          0.818293          0.819465          0.818463        0.818740   \n",
       "2          0.817391          0.818302          0.817982        0.817892   \n",
       "3          0.819878          0.820911          0.820060        0.820283   \n",
       "\n",
       "   std_test_rmse  rank_test_rmse  mean_fit_time  std_fit_time  mean_test_time  \\\n",
       "0       0.000599               4     536.813839     66.149059      343.545335   \n",
       "1       0.000517               2     839.940263    181.062887      891.278536   \n",
       "2       0.000378               1    1052.247490    124.973571      922.822843   \n",
       "3       0.000450               3    2269.480941    560.156583      115.386146   \n",
       "\n",
       "   std_test_time              params  param_n_factors  \n",
       "0      74.102112   {'n_factors': 10}               10  \n",
       "1     416.586979   {'n_factors': 25}               25  \n",
       "2     531.629237   {'n_factors': 50}               50  \n",
       "3      30.535429  {'n_factors': 150}              150  "
      ]
     },
     "execution_count": 54,
     "metadata": {},
     "output_type": "execute_result"
    }
   ],
   "source": [
    "# The highest mean test RMSE was with 50 factors - but interestingly this did not improve on the baseline score \n",
    "# with default parameters.\n",
    "# Further parameter tuning - for example, experimenting with the learning rate of number of epochs, \n",
    "# may yield improved results.\n",
    "# However we can note that an RMSE of 0.82 compares well with, for example, the orignal netflix prize of 2009, RMSE 0.86\n",
    "# The computational expense of GridSearchCV sadly meant that further tuning of parameters was not possible\n",
    "# For this reason confirmation of generalisation of the results through a test of unseen data was also not completed\n",
    "gscv_results_df"
   ]
  },
  {
   "cell_type": "code",
   "execution_count": null,
   "metadata": {},
   "outputs": [],
   "source": []
  }
 ],
 "metadata": {
  "kernelspec": {
   "display_name": "Python 3",
   "language": "python",
   "name": "python3"
  },
  "language_info": {
   "codemirror_mode": {
    "name": "ipython",
    "version": 3
   },
   "file_extension": ".py",
   "mimetype": "text/x-python",
   "name": "python",
   "nbconvert_exporter": "python",
   "pygments_lexer": "ipython3",
   "version": "3.8.5"
  }
 },
 "nbformat": 4,
 "nbformat_minor": 4
}
